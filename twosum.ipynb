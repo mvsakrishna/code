{
  "nbformat": 4,
  "nbformat_minor": 0,
  "metadata": {
    "colab": {
      "provenance": [],
      "authorship_tag": "ABX9TyPoEIg5vNei+mSTSjKmaXh/",
      "include_colab_link": true
    },
    "kernelspec": {
      "name": "python3",
      "display_name": "Python 3"
    },
    "language_info": {
      "name": "python"
    }
  },
  "cells": [
    {
      "cell_type": "markdown",
      "metadata": {
        "id": "view-in-github",
        "colab_type": "text"
      },
      "source": [
        "<a href=\"https://colab.research.google.com/github/mvsakrishna/code/blob/main/twosum.ipynb\" target=\"_parent\"><img src=\"https://colab.research.google.com/assets/colab-badge.svg\" alt=\"Open In Colab\"/></a>"
      ]
    },
    {
      "cell_type": "code",
      "execution_count": null,
      "metadata": {
        "colab": {
          "base_uri": "https://localhost:8080/"
        },
        "id": "1oxRO441PjuM",
        "outputId": "25999623-9ec8-4126-8113-f1fea4fde3d1"
      },
      "outputs": [
        {
          "output_type": "stream",
          "name": "stdout",
          "text": [
            "2 3\n"
          ]
        }
      ],
      "source": [
        "num = [3,4,5,6]\n",
        "tar = 11\n",
        "\n",
        "hashmap ={} #create empty hashmap\n",
        "for i,n in enumerate(num):\n",
        "  diff = tar-n\n",
        "  if diff in hashmap:\n",
        "    print(hashmap[diff],i)\n",
        "  hashmap[n]=i\n",
        "\n",
        "\n"
      ]
    },
    {
      "cell_type": "code",
      "source": [],
      "metadata": {
        "id": "8eAklZJnWHfz"
      },
      "execution_count": null,
      "outputs": []
    }
  ]
}